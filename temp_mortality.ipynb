{
 "metadata": {
  "language_info": {
   "codemirror_mode": {
    "name": "ipython",
    "version": 3
   },
   "file_extension": ".py",
   "mimetype": "text/x-python",
   "name": "python",
   "nbconvert_exporter": "python",
   "pygments_lexer": "ipython3",
   "version": "3.7.5-final"
  },
  "orig_nbformat": 2,
  "kernelspec": {
   "name": "python37564bit2b772899967941c78d50058574f021dd",
   "display_name": "Python 3.7.5 64-bit",
   "language": "python"
  }
 },
 "nbformat": 4,
 "nbformat_minor": 2,
 "cells": [
  {
   "cell_type": "code",
   "execution_count": 1,
   "metadata": {
    "tags": []
   },
   "outputs": [],
   "source": [
    "import pandas as pd\n",
    "import numpy as np\n",
    "\n",
    "def temperature():\n",
    "    df = pd.read_csv('temperaturas.csv')\n",
    "    year_cond = (df['Anio']==2006)\n",
    "    df = df[year_cond]\n",
    "    year_string = df['Anio'].astype(str)+'-'+df['Mes'].astype(str)+'-'+df['Día'].astype(str)\n",
    "    df['Date'] = pd.to_datetime(year_string,format='%Y-%m-%d',errors='coerce')\n",
    "    df = df[['Date','Datos']].set_index('Date').dropna()\n",
    "    df = df.rename(columns={'Datos':'Temperature'})\n",
    "    return df"
   ]
  },
  {
   "cell_type": "code",
   "execution_count": 2,
   "metadata": {},
   "outputs": [],
   "source": [
    "from simpledbf import Dbf5\n",
    "# install simpledbf, pytables and sqlalchemy\n",
    "# pip install tables; pip install sqlalchemy\n",
    "\n",
    "def defun():\n",
    "    dbf = Dbf5('DEFUN06.DBF')\n",
    "    df = dbf.to_dataframe()\n",
    "    year_cond = (df['ANIO_OCUR']==2006)\n",
    "    df = df[year_cond]\n",
    "    year_string = df['ANIO_OCUR'].astype(str)+'-'+df['MES_OCURR'].astype(str)+'-'+df['DIA_OCURR'].astype(str)\n",
    "    df['Date'] = pd.to_datetime(year_string,format='%Y-%m-%d',errors='coerce')\n",
    "    entity_cond = (df['ENT_OCURR']==9)\n",
    "    df = df[entity_cond]\n",
    "    df = df.groupby('Date').size().reset_index(name='No. of deaths')\n",
    "    df = df.set_index('Date').sort_index()\n",
    "    return df"
   ]
  },
  {
   "cell_type": "code",
   "execution_count": 3,
   "metadata": {},
   "outputs": [
    {
     "output_type": "execute_result",
     "data": {
      "text/plain": [
       "            Temperature  No. of deaths\n",
       "Date                                  \n",
       "2006-01-09        10.50            196\n",
       "2006-01-10        11.50            211\n",
       "2006-01-11        12.75            199\n",
       "2006-01-12        12.75            209\n",
       "2006-01-13        14.00            203\n",
       "...                 ...            ...\n",
       "2006-12-24        12.50            154\n",
       "2006-12-25        10.00            202\n",
       "2006-12-26         9.50            193\n",
       "2006-12-27        10.00            191\n",
       "2006-12-28        10.50            223\n",
       "\n",
       "[354 rows x 2 columns]"
      ],
      "text/html": "<div>\n<style scoped>\n    .dataframe tbody tr th:only-of-type {\n        vertical-align: middle;\n    }\n\n    .dataframe tbody tr th {\n        vertical-align: top;\n    }\n\n    .dataframe thead th {\n        text-align: right;\n    }\n</style>\n<table border=\"1\" class=\"dataframe\">\n  <thead>\n    <tr style=\"text-align: right;\">\n      <th></th>\n      <th>Temperature</th>\n      <th>No. of deaths</th>\n    </tr>\n    <tr>\n      <th>Date</th>\n      <th></th>\n      <th></th>\n    </tr>\n  </thead>\n  <tbody>\n    <tr>\n      <th>2006-01-09</th>\n      <td>10.50</td>\n      <td>196</td>\n    </tr>\n    <tr>\n      <th>2006-01-10</th>\n      <td>11.50</td>\n      <td>211</td>\n    </tr>\n    <tr>\n      <th>2006-01-11</th>\n      <td>12.75</td>\n      <td>199</td>\n    </tr>\n    <tr>\n      <th>2006-01-12</th>\n      <td>12.75</td>\n      <td>209</td>\n    </tr>\n    <tr>\n      <th>2006-01-13</th>\n      <td>14.00</td>\n      <td>203</td>\n    </tr>\n    <tr>\n      <th>...</th>\n      <td>...</td>\n      <td>...</td>\n    </tr>\n    <tr>\n      <th>2006-12-24</th>\n      <td>12.50</td>\n      <td>154</td>\n    </tr>\n    <tr>\n      <th>2006-12-25</th>\n      <td>10.00</td>\n      <td>202</td>\n    </tr>\n    <tr>\n      <th>2006-12-26</th>\n      <td>9.50</td>\n      <td>193</td>\n    </tr>\n    <tr>\n      <th>2006-12-27</th>\n      <td>10.00</td>\n      <td>191</td>\n    </tr>\n    <tr>\n      <th>2006-12-28</th>\n      <td>10.50</td>\n      <td>223</td>\n    </tr>\n  </tbody>\n</table>\n<p>354 rows × 2 columns</p>\n</div>"
     },
     "metadata": {},
     "execution_count": 3
    }
   ],
   "source": [
    "df1 = temperature()\n",
    "df2 = defun()\n",
    "df = pd.merge(df1,df2,left_index=True,right_index=True,how='inner')\n",
    "df"
   ]
  },
  {
   "cell_type": "code",
   "execution_count": 10,
   "metadata": {},
   "outputs": [
    {
     "output_type": "display_data",
     "data": {
      "text/plain": "Canvas(toolbar=Toolbar(toolitems=[('Home', 'Reset original view', 'home', 'home'), ('Back', 'Back to previous …",
      "application/vnd.jupyter.widget-view+json": {
       "version_major": 2,
       "version_minor": 0,
       "model_id": "534d62c1518948f38081fb37e13d2432"
      }
     },
     "metadata": {}
    }
   ],
   "source": [
    "%matplotlib ipympl\n",
    "import matplotlib.pyplot as plt\n",
    "import matplotlib.dates as mdates\n",
    "import scipy.stats as stats\n",
    "from numpy.fft import rfft,irfft\n",
    "from decimal import Decimal\n",
    "\n",
    "x = df.index\n",
    "y = [df['Temperature'],df['No. of deaths']]\n",
    "corr, pval = stats.pearsonr(y[0],y[1])\n",
    "\n",
    "def display_plot(filt=0):\n",
    "    Y = y.copy()\n",
    "    ######## FILTERING AND SMOOTHING\n",
    "    for i,data in enumerate(Y):\n",
    "        c = rfft(data)\n",
    "        N = len(c)\n",
    "        # filt is percentage of Fourier coefficients\n",
    "        for n in range(int(N*(1-filt))):\n",
    "            c[int(filt*N)+n] = 0\n",
    "        Y[i] = irfft(c)\n",
    "\n",
    "    ######## PLOTTING\n",
    "    fig, ax1 = plt.subplots();\n",
    "    col1 = 'teal'\n",
    "    ax1.plot(x,Y[0],col1);\n",
    "    ax1.plot(x,y[0],col1,alpha=0.23);\n",
    "    ax1.set_ylabel('Temperature ($^{\\circ} C$)');\n",
    "    ax1.tick_params(axis='y',labelcolor=col1);\n",
    "    ax2 = ax1.twinx();  # instantiate a second axes that shares the same x-axis\n",
    "    # we already handled the x-label with ax1\n",
    "    col2 = 'firebrick'\n",
    "    ax2.plot(x,Y[1],col2);\n",
    "    ax2.plot(x,y[1],col2,alpha=0.23);\n",
    "    ax2.set_ylabel('No. of deaths');\n",
    "    ax2.tick_params(axis='y',labelcolor=col2);\n",
    "\n",
    "    # Set the locator\n",
    "    locator = mdates.MonthLocator();  # every month\n",
    "    # Specify the format - %b gives us Jan, Feb...\n",
    "    fmt = mdates.DateFormatter('%b');\n",
    "    X = plt.gca().xaxis;\n",
    "    X.set_major_locator(locator);\n",
    "    # Specify formatter;\n",
    "    X.set_major_formatter(fmt);\n",
    "    plt.title('Correlation between mean temperature and mortality\\ntroughout the year 2006 in Mexico City');\n",
    "\n",
    "    txt = 'corr = {}\\np-val = {:.1E}'.format(round(corr,2),Decimal(pval))\n",
    "    props = dict(boxstyle='round',facecolor='wheat',alpha=0.5);\n",
    "    plt.text(0.05,0.95,txt,fontsize=9,transform=ax1.transAxes,verticalalignment='top',bbox=props);\n",
    "\n",
    "display_plot(0.25)"
   ]
  },
  {
   "cell_type": "code",
   "execution_count": null,
   "metadata": {},
   "outputs": [],
   "source": []
  }
 ]
}